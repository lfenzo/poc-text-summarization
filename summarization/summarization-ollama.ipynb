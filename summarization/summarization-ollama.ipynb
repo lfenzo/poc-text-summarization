{
 "cells": [
  {
   "cell_type": "code",
   "execution_count": null,
   "id": "83c7414e-ef2f-4c03-bb8e-afbdc84825fa",
   "metadata": {
    "scrolled": true
   },
   "outputs": [],
   "source": [
    "! ollama pull llama3.1"
   ]
  },
  {
   "cell_type": "code",
   "execution_count": 8,
   "id": "3b9906be-0a7e-41d6-a0c3-379695e62413",
   "metadata": {
    "execution": {
     "iopub.execute_input": "2024-08-05T17:46:55.622697Z",
     "iopub.status.busy": "2024-08-05T17:46:55.622563Z",
     "iopub.status.idle": "2024-08-05T17:46:55.625332Z",
     "shell.execute_reply": "2024-08-05T17:46:55.624941Z",
     "shell.execute_reply.started": "2024-08-05T17:46:55.622686Z"
    }
   },
   "outputs": [],
   "source": [
    "with open('../outputs/digital-thermometer-pdfplumber.md', 'r') as file:\n",
    "    text = file.read()"
   ]
  },
  {
   "cell_type": "code",
   "execution_count": 12,
   "id": "78f79fc0-11b7-435c-b1eb-c108c1bbca14",
   "metadata": {
    "execution": {
     "iopub.execute_input": "2024-08-05T17:48:11.846078Z",
     "iopub.status.busy": "2024-08-05T17:48:11.845888Z",
     "iopub.status.idle": "2024-08-05T17:48:15.674916Z",
     "shell.execute_reply": "2024-08-05T17:48:15.674697Z",
     "shell.execute_reply.started": "2024-08-05T17:48:11.846063Z"
    }
   },
   "outputs": [
    {
     "name": "stdout",
     "output_type": "stream",
     "text": [
      "This document describes the operation and communication protocol for the DS18B20 digital temperature sensor.  \n",
      "\n",
      "It details how the 1-Wire bus operates, including:\n",
      "\n",
      "* **Write Time Slots:**  To write data to the DS18B20, the master device must pull the bus low for a specific duration (at least 60µs), within which the DS18B20 samples the line. If the bus is low during this window, a '0' is written; if high, a '1'.\n",
      "* **Read Time Slots:** The DS18B20 transmits data back to the master through read time slots initiated by the master pulling the bus low for at least 1µs.  The DS18B20 then outputs '1's by keeping the bus high and '0's by pulling it low.\n",
      "\n",
      "The document emphasizes precise timing requirements for both write and read operations, including minimum durations and recovery times between slots. It also highlights the importance of sampling the bus within 15µs after a read time slot starts to ensure accurate data retrieval.\n",
      "\n",
      "Finally, the document provides links to related application notes covering topics like CRC calculations, power supply considerations, software interfacing, and examples demonstrating how to use the DS18B20 with microcontrollers.  \n",
      "\n",
      "\n"
     ]
    }
   ],
   "source": [
    "import os\n",
    "import ollama\n",
    "\n",
    "stream = ollama.chat(\n",
    "    model='gemma2',\n",
    "    messages=[\n",
    "        {\n",
    "            'role': 'user',\n",
    "             'content': f\"\"\"\n",
    "                Please, produce a summary of the following text extracted from a document: {text}.\n",
    "                In terms of length, you may provide a text with 20% of the original text size.\n",
    "                The summary must be produced in the same language as the original text.\n",
    "                \"\"\"\n",
    "        }\n",
    "    ],\n",
    "    stream=True,\n",
    ")\n",
    "\n",
    "for chunk in stream:\n",
    "  print(chunk['message']['content'], end='', flush=True)"
   ]
  }
 ],
 "metadata": {
  "kernelspec": {
   "display_name": "Python 3 (ipykernel)",
   "language": "python",
   "name": "python3"
  },
  "language_info": {
   "codemirror_mode": {
    "name": "ipython",
    "version": 3
   },
   "file_extension": ".py",
   "mimetype": "text/x-python",
   "name": "python",
   "nbconvert_exporter": "python",
   "pygments_lexer": "ipython3",
   "version": "3.10.12"
  }
 },
 "nbformat": 4,
 "nbformat_minor": 5
}
