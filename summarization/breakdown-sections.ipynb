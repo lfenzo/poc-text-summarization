{
 "cells": [
  {
   "cell_type": "markdown",
   "id": "cd2088a2-c16c-4a17-82e0-096bd9f1dbe2",
   "metadata": {
    "execution": {
     "iopub.execute_input": "2024-08-05T20:38:13.672500Z",
     "iopub.status.busy": "2024-08-05T20:38:13.672331Z",
     "iopub.status.idle": "2024-08-05T20:38:13.674742Z",
     "shell.execute_reply": "2024-08-05T20:38:13.674385Z",
     "shell.execute_reply.started": "2024-08-05T20:38:13.672488Z"
    }
   },
   "source": [
    "## Section Breakdown (`pdfplumber`)"
   ]
  },
  {
   "cell_type": "code",
   "execution_count": 1,
   "id": "66b0ae3a-5423-45b2-a776-c5b6b8d5a969",
   "metadata": {
    "execution": {
     "iopub.execute_input": "2024-08-06T12:44:51.426436Z",
     "iopub.status.busy": "2024-08-06T12:44:51.426246Z",
     "iopub.status.idle": "2024-08-06T12:44:51.439946Z",
     "shell.execute_reply": "2024-08-06T12:44:51.439738Z",
     "shell.execute_reply.started": "2024-08-06T12:44:51.426422Z"
    }
   },
   "outputs": [],
   "source": [
    "import re\n",
    "from collections import defaultdict\n",
    "\n",
    "def parse_markdown(md_text):\n",
    "    header_regex = re.compile(r'^(#{1,6})\\s*(.*)')\n",
    "    \n",
    "    sections = defaultdict(str)\n",
    "    \n",
    "    current_section = None\n",
    "    \n",
    "    for line in md_text.split('\\n'):\n",
    "        header_match = header_regex.match(line)\n",
    "        if header_match:\n",
    "            level = len(header_match.group(1))\n",
    "            header = header_match.group(2).strip()\n",
    "            \n",
    "            current_section = header\n",
    "        elif current_section:\n",
    "            sections[current_section] += line + '\\n'\n",
    "    \n",
    "    return sections\n",
    "\n",
    "with open('../outputs/digital-thermometer-pdfplumber.md') as file:\n",
    "    markdown_text = file.read()\n",
    "\n",
    "sections = parse_markdown(markdown_text)"
   ]
  },
  {
   "cell_type": "code",
   "execution_count": 2,
   "id": "a2b1259e-6bac-4918-82c2-570262be3b40",
   "metadata": {
    "execution": {
     "iopub.execute_input": "2024-08-06T12:44:51.440297Z",
     "iopub.status.busy": "2024-08-06T12:44:51.440223Z",
     "iopub.status.idle": "2024-08-06T12:44:51.449495Z",
     "shell.execute_reply": "2024-08-06T12:44:51.449316Z",
     "shell.execute_reply.started": "2024-08-06T12:44:51.440289Z"
    },
    "scrolled": true
   },
   "outputs": [
    {
     "data": {
      "text/plain": [
       "dict_keys(['General Description', 'Applications', 'Benefits and Features', 'Pin Configurations Absolute Maximum Ratings DC Electrical Characteristics AC Electrical Characteristics–NV Memory AC Electrical Characteristics Pin Description Overview', 'Operation—Measuring Temperature', 'Table 1. Temperature/Data Relationship', 'Operation—Alarm Signaling', 'Powering the DS18B20', '64-BIT Lasered ROM code', 'Memory', 'Configuration Register', 'CRC Generation', 'Table 2. Thermometer Resolution Configura', 'ion', '1-Wire Bus System', 'Hardware Configuration', 'Transaction Sequence', 'Initialization', 'ROM Commands', 'Search Rom [F0h]', 'Read Rom [33h]', 'Match Rom [55H]', 'Skip Rom [CCh]', 'Alarm Search [ECh]', 'DS18B20 Function Commands', 'Convert T [44h]', 'Write Scratchpad [4Eh]', 'Read Scratchpad [BEh]', 'Copy Scratchpad [48h]', 'Recall E [B8h]', 'Table 3. DS18B20 Function Command Set', 'Read Power Supply [B4h]', '1-Wire Signaling', 'Initialization Procedure—Reset And Presence Pulses', 'Read/Write Time Slots', 'Write Time Slots', 'Read Time Slots', 'Related Application Notes', 'DS18B20 Operation Example 1', 'DS18B20 Operation Example 2'])"
      ]
     },
     "execution_count": 2,
     "metadata": {},
     "output_type": "execute_result"
    }
   ],
   "source": [
    "sections.keys()"
   ]
  },
  {
   "cell_type": "code",
   "execution_count": 3,
   "id": "1779611a-b8f6-46e9-878c-8a99a9287cb9",
   "metadata": {
    "execution": {
     "iopub.execute_input": "2024-08-06T12:44:51.449889Z",
     "iopub.status.busy": "2024-08-06T12:44:51.449803Z",
     "iopub.status.idle": "2024-08-06T12:44:51.463930Z",
     "shell.execute_reply": "2024-08-06T12:44:51.463737Z",
     "shell.execute_reply.started": "2024-08-06T12:44:51.449882Z"
    }
   },
   "outputs": [
    {
     "data": {
      "text/plain": [
       "'\\n The DS18B20 digital thermometer provides 9-bit to 12-bit Celsius temperature measurements and has an alarm function with nonvolatile user-programmable upper and lower trigger points. The DS18B20 communicates over a 1-Wire bus that by definition requires only one data line (and ground) for communication with a central microprocessor. In addition, the DS18B20 can derive power directly from the data line (“parasite power”), eliminating the need for an external power supply. Each DS18B20 has a unique 64-bit serial code, which allows multiple DS18B20s to function on the same 1-Wire bus. Thus, it is simple to use one microprocessor to control many DS18B20s distributed over a large area. Applications that can benefit from this feature include HVAC environmental controls, temperature monitoring systems inside buildings, equipment, or machinery, and process monitoring and control systems. \\n\\n'"
      ]
     },
     "execution_count": 3,
     "metadata": {},
     "output_type": "execute_result"
    }
   ],
   "source": [
    "sections['General Description']"
   ]
  },
  {
   "cell_type": "markdown",
   "id": "9caaf659-b654-4da1-88a9-ea40539c2584",
   "metadata": {
    "execution": {
     "iopub.execute_input": "2024-08-05T20:38:43.946255Z",
     "iopub.status.busy": "2024-08-05T20:38:43.946139Z",
     "iopub.status.idle": "2024-08-05T20:38:43.947791Z",
     "shell.execute_reply": "2024-08-05T20:38:43.947588Z",
     "shell.execute_reply.started": "2024-08-05T20:38:43.946247Z"
    }
   },
   "source": [
    "## Page Breakdown (`pymupdf4llm`)"
   ]
  },
  {
   "cell_type": "code",
   "execution_count": 4,
   "id": "44fbc342-04ed-4205-9aae-36391b939ffe",
   "metadata": {
    "execution": {
     "iopub.execute_input": "2024-08-06T12:44:51.464296Z",
     "iopub.status.busy": "2024-08-06T12:44:51.464220Z",
     "iopub.status.idle": "2024-08-06T12:44:51.475134Z",
     "shell.execute_reply": "2024-08-06T12:44:51.474912Z",
     "shell.execute_reply.started": "2024-08-06T12:44:51.464289Z"
    }
   },
   "outputs": [],
   "source": [
    "with open('../outputs/digital-thermometer-pdfplumber-overwrite-tables.md') as file:\n",
    "    markdown_text = file.read()"
   ]
  },
  {
   "cell_type": "code",
   "execution_count": 5,
   "id": "2d8cff66-2fcc-4890-8c5e-02ef2fa311ff",
   "metadata": {
    "execution": {
     "iopub.execute_input": "2024-08-06T12:44:51.475653Z",
     "iopub.status.busy": "2024-08-06T12:44:51.475451Z",
     "iopub.status.idle": "2024-08-06T12:44:51.485846Z",
     "shell.execute_reply": "2024-08-06T12:44:51.485642Z",
     "shell.execute_reply.started": "2024-08-06T12:44:51.475640Z"
    }
   },
   "outputs": [],
   "source": [
    "pages = {}\n",
    "\n",
    "for page_number, page_text in enumerate(markdown_text.split('-----'), start=1):\n",
    "    pages[page_number] = page_text"
   ]
  },
  {
   "cell_type": "code",
   "execution_count": 6,
   "id": "702fb726-77d3-43f9-a137-9a1539e52178",
   "metadata": {
    "execution": {
     "iopub.execute_input": "2024-08-06T12:44:51.486554Z",
     "iopub.status.busy": "2024-08-06T12:44:51.486407Z",
     "iopub.status.idle": "2024-08-06T12:44:51.497356Z",
     "shell.execute_reply": "2024-08-06T12:44:51.497179Z",
     "shell.execute_reply.started": "2024-08-06T12:44:51.486546Z"
    }
   },
   "outputs": [
    {
     "data": {
      "text/plain": [
       "'\\n\\n# DS18B20 Programmable Resolution 1-Wire Digital Thermometer\\n\\n**Absolute Maximum Ratings**\\n\\nVoltage Range on Any Pin Relative to Ground.....-0.5V to +6.0V Storage Temperature Range............................. -55°C to +125°C\\nOperating Temperature Range.......................... -55°C to +125°C Solder Temperature................................Refer to the IPC/JEDEC\\nJ-STD-020 Specification.\\n\\n_These are stress ratings only and functional operation of the device at these or any other conditions above those indicated in the operation sections of this specification is not implied. Exposure_\\n_to absolute maximum rating conditions for extended periods of time may affect reliability._\\n\\n**DC Electrical Characteristics**\\n\\n(-55°C to +125°C; VDD = 3.0V to 5.5V)\\n\\n**Note 1:** All voltages are referenced to ground.\\n**Note 2:** The Pullup Supply Voltage specification assumes that the pullup device is ideal, and therefore the high level of the\\npullup is equal to VPU. In order to meet the VIH spec of the DS18B20, the actual supply rail for the strong pullup transistor must include margin for the voltage drop across the transistor when it is turned on; thus: VPU_ACTUAL = VPU_IDEAL +\\nVTRANSISTOR.\\n**Note 3:** See typical performance curve in Figure 1. Thermometer Error limits are 3-sigma values.\\n**Note 4:** Logic-low voltages are specified at a sink current of 4mA.\\n**Note 5:** To guarantee a presence pulse under low voltage parasite power conditions, VILMAX may have to be reduced to as low as\\n0.5V.\\n**Note 6:** Logic-high voltages are specified at a source current of 1mA.\\n**Note 7:** Standby current specified up to +70°C. Standby current typically is 3µA at +125°C.\\n**Note 8:** To minimize IDDS, DQ should be within the following ranges: GND ≤ DQ ≤ GND + 0.3V or VDD – 0.3V ≤ DQ ≤ VDD.\\n**Note 9:** Active current refers to supply current during active temperature conversions or EEPROM writes.\\n**Note 10: DQ line is high (“high-Z” state).**\\n**Note 11: Drift data is based on a 1000-hour stress test at +125°C with VDD = 5.5V.**\\n\\n\\n'"
      ]
     },
     "execution_count": 6,
     "metadata": {},
     "output_type": "execute_result"
    }
   ],
   "source": [
    "pages[2]"
   ]
  },
  {
   "cell_type": "code",
   "execution_count": 7,
   "id": "2c98eb9f-2b3d-47cb-ad27-68766ff340ff",
   "metadata": {
    "execution": {
     "iopub.execute_input": "2024-08-06T12:44:51.497694Z",
     "iopub.status.busy": "2024-08-06T12:44:51.497625Z",
     "iopub.status.idle": "2024-08-06T12:44:51.508688Z",
     "shell.execute_reply": "2024-08-06T12:44:51.508470Z",
     "shell.execute_reply.started": "2024-08-06T12:44:51.497687Z"
    }
   },
   "outputs": [
    {
     "name": "stdout",
     "output_type": "stream",
     "text": [
      "_[Click here](https://www.maximintegrated.com/en/storefront/storefront.html)_ _for production status of specific part numbers._\n",
      "\n",
      "# DS18B20 Programmable Resolution 1-Wire Digital Thermometer\n",
      "\n",
      "\n",
      "**General Description**\n",
      "The DS18B20 digital thermometer provides 9-bit to\n",
      "12-bit Celsius temperature measurements and has an\n",
      "alarm function with nonvolatile user-programmable upper\n",
      "and lower trigger points. The DS18B20 communicates\n",
      "over a 1-Wire bus that by definition requires only one\n",
      "data line (and ground) for communication with a central\n",
      "microprocessor. In addition, the DS18B20 can derive\n",
      "power directly from the data line (“parasite power”),\n",
      "eliminating the need for an external power supply.\n",
      "\n",
      "Each DS18B20 has a unique 64-bit serial code, which\n",
      "allows multiple DS18B20s to function on the same 1-Wire\n",
      "bus. Thus, it is simple to use one microprocessor to\n",
      "control many DS18B20s distributed over a large area.\n",
      "Applications that can benefit from this feature include\n",
      "HVAC environmental controls, temperature monitoring\n",
      "systems inside buildings, equipment, or machinery, and\n",
      "process monitoring and control systems.\n",
      "\n",
      "**Applications**\n",
      "\n",
      "- ● Thermostatic Controls\n",
      "\n",
      "- ● Industrial Systems\n",
      "\n",
      "- ● Consumer Products\n",
      "\n",
      "- ● Thermometers\n",
      "\n",
      "- ● Thermally Sensitive Systems\n",
      "\n",
      "**_Ordering Information appears at end of data sheet._**\n",
      "\n",
      "_1-Wire is a registered trademark of Maxim Integrated Products, Inc._\n",
      "\n",
      "\n",
      "**Benefits and Features**\n",
      "\n",
      "- ● Unique 1-Wire[®] Interface Requires Only One Port\n",
      "Pin for Communication\n",
      "\n",
      "- ● Reduce Component Count with Integrated\n",
      "Temperature Sensor and EEPROM\n",
      "\n",
      "-  Measures Temperatures from -55°C to +125°C\n",
      "(-67°F to +257°F)\n",
      "\n",
      "-  ±0.5°C Accuracy from -10°C to +85°C\n",
      "\n",
      "-  Programmable Resolution from 9 Bits to 12 Bits\n",
      "\n",
      "-  No External Components Required\n",
      "\n",
      "- ● Parasitic Power Mode Requires Only 2 Pins for\n",
      "Operation (DQ and GND)\n",
      "\n",
      "- ● Simplifies Distributed Temperature-Sensing\n",
      "Applications with Multidrop Capability\n",
      "\n",
      "-  Each Device Has a Unique 64-Bit Serial Code\n",
      "Stored in On-Board ROM\n",
      "\n",
      "- ● Flexible User-Definable Nonvolatile (NV) Alarm Settings\n",
      "with Alarm Search Command Identifies Devices with\n",
      "Temperatures Outside Programmed Limits\n",
      "\n",
      "- ● Available in 8-Pin SO (150 mils), 8-Pin µSOP, and\n",
      "3-Pin TO-92 Packages\n",
      "\n",
      "**Pin Configurations**\n",
      "\n",
      "\n",
      " \n",
      "\n",
      "# DS18B20 Programmable Resolution 1-Wire Digital Thermometer\n",
      "\n",
      "**Absolute Maximum Ratings**\n",
      "\n",
      "Voltage Range on Any Pin Relative to Ground.....-0.5V to +6.0V Storage Temperature Range............................. -55°C to +125°C\n",
      "Operating Temperature Range.......................... -55°C to +125°C Solder Temperature................................Refer to the IPC/JEDEC\n",
      "J-STD-020 Specification.\n",
      "\n",
      "_These are stress ratings only and functional operation of the device at these or any other conditions above those indicated in the operation sections of this specification is not implied. Exposure_\n",
      "_to absolute maximum rating conditions for extended periods of time may affect reliability._\n",
      "\n",
      "**DC Electrical Characteristics**\n",
      "\n",
      "(-55°C to +125°C; VDD = 3.0V to 5.5V)\n",
      "\n",
      "**Note 1:** All voltages are referenced to ground.\n",
      "**Note 2:** The Pullup Supply Voltage specification assumes that the pullup device is ideal, and therefore the high level of the\n",
      "pullup is equal to VPU. In order to meet the VIH spec of the DS18B20, the actual supply rail for the strong pullup transistor must include margin for the voltage drop across the transistor when it is turned on; thus: VPU_ACTUAL = VPU_IDEAL +\n",
      "VTRANSISTOR.\n",
      "**Note 3:** See typical performance curve in Figure 1. Thermometer Error limits are 3-sigma values.\n",
      "**Note 4:** Logic-low voltages are specified at a sink current of 4mA.\n",
      "**Note 5:** To guarantee a presence pulse under low voltage parasite power conditions, VILMAX may have to be reduced to as low as\n",
      "0.5V.\n",
      "**Note 6:** Logic-high voltages are specified at a source current of 1mA.\n",
      "**Note 7:** Standby current specified up to +70°C. Standby current typically is 3µA at +125°C.\n",
      "**Note 8:** To minimize IDDS, DQ should be within the following ranges: GND ≤ DQ ≤ GND + 0.3V or VDD – 0.3V ≤ DQ ≤ VDD.\n",
      "**Note 9:** Active current refers to supply current during active temperature conversions or EEPROM writes.\n",
      "**Note 10: DQ line is high (“high-Z” state).**\n",
      "**Note 11: Drift data is based on a 1000-hour stress test at +125°C with VDD = 5.5V.**\n",
      "\n",
      "\n",
      "\n"
     ]
    }
   ],
   "source": [
    "def page_range_iterator(md_text: str, pages_per_iteration: int = 2) -> iter:\n",
    "    text_splits = markdown_text.split('-----')\n",
    "    for i in range(0, len(text_splits), pages_per_iteration):\n",
    "        page_batch = \" \".join(text_splits[i:i + pages_per_iteration])\n",
    "        if page_batch:\n",
    "            yield page_batch\n",
    "\n",
    "for page_batch in page_range_iterator(md_text=markdown_text, pages_per_iteration=2):\n",
    "    print(page_batch)\n",
    "    break"
   ]
  }
 ],
 "metadata": {
  "kernelspec": {
   "display_name": "Python 3 (ipykernel)",
   "language": "python",
   "name": "python3"
  },
  "language_info": {
   "codemirror_mode": {
    "name": "ipython",
    "version": 3
   },
   "file_extension": ".py",
   "mimetype": "text/x-python",
   "name": "python",
   "nbconvert_exporter": "python",
   "pygments_lexer": "ipython3",
   "version": "3.10.12"
  }
 },
 "nbformat": 4,
 "nbformat_minor": 5
}
